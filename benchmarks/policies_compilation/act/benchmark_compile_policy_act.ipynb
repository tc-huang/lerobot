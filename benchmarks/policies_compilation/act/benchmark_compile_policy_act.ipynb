{
 "cells": [
  {
   "cell_type": "markdown",
   "metadata": {},
   "source": [
    "# Constants"
   ]
  },
  {
   "cell_type": "code",
   "execution_count": null,
   "metadata": {},
   "outputs": [],
   "source": [
    "LEROBOT_FORK_REPO_URL = \"https://github.com/tc-huang/lerobot.git\"\n",
    "# LEROBOT_FORK_BRANCH = \"feat/policies-torch-compilable\"\n",
    "LEROBOT_FORK_BRANCH = \"feat/policies-torch-compilable-wip\"\n",
    "\n",
    "BENCHMARK_PY_URL = \"https://gist.githubusercontent.com/AdilZouitine/3574664e4cf71605986b49e9148d29ab/raw/90ee0613044a8a668d8a4ea24f4e74549bc0f3bb/benchmark_inference_compile_lerobot.py\""
   ]
  },
  {
   "cell_type": "markdown",
   "metadata": {},
   "source": [
    "# Install `conda` in colab"
   ]
  },
  {
   "cell_type": "code",
   "execution_count": null,
   "metadata": {
    "colab": {
     "base_uri": "https://localhost:8080/"
    },
    "id": "_4Xg_mRWr-M9",
    "outputId": "ef32e969-bf47-4cbd-bfa8-76c07d41f734"
   },
   "outputs": [
    {
     "name": "stdout",
     "output_type": "stream",
     "text": [
      "⏬ Downloading https://github.com/jaimergp/miniforge/releases/download/24.11.2-1_colab/Miniforge3-colab-24.11.2-1_colab-Linux-x86_64.sh...\n",
      "📦 Installing...\n",
      "📌 Adjusting configuration...\n",
      "🩹 Patching environment...\n",
      "⏲ Done in 0:00:09\n",
      "🔁 Restarting kernel...\n"
     ]
    }
   ],
   "source": [
    "import importlib.util\n",
    "\n",
    "if importlib.util.find_spec(\"google.colab\") is not None:\n",
    "    !pip install -q condacolab\n",
    "    import condacolab\n",
    "\n",
    "    condacolab.install()"
   ]
  },
  {
   "cell_type": "markdown",
   "metadata": {},
   "source": [
    "# Install `lerobot` Package"
   ]
  },
  {
   "cell_type": "code",
   "execution_count": null,
   "metadata": {
    "id": "ce3gY35vtmVf"
   },
   "outputs": [],
   "source": [
    "# !git clone https://github.com/huggingface/lerobot.git\n",
    "!git clone {LEROBOT_FORK_REPO_URL} --branch {LEROBOT_FORK_BRANCH} -q\n",
    "!conda install ffmpeg=7.1.1 -c conda-forge -q -y\n",
    "!cd lerobot && pip install -e . -q\n",
    "# !wandb login"
   ]
  },
  {
   "cell_type": "markdown",
   "metadata": {},
   "source": [
    "# Summary of System Config"
   ]
  },
  {
   "cell_type": "code",
   "execution_count": null,
   "metadata": {},
   "outputs": [],
   "source": [
    "! lerobot-info"
   ]
  },
  {
   "cell_type": "markdown",
   "metadata": {},
   "source": [
    "# Benchmark"
   ]
  },
  {
   "cell_type": "markdown",
   "metadata": {},
   "source": [
    "## Check CUDA Available"
   ]
  },
  {
   "cell_type": "code",
   "execution_count": null,
   "metadata": {},
   "outputs": [],
   "source": [
    "import torch\n",
    "\n",
    "if torch.cuda.is_available():\n",
    "    print(\"CUDA available: True\")\n",
    "    print(f\"GPU count: {torch.cuda.device_count()}\")\n",
    "    for i in range(torch.cuda.device_count()):\n",
    "        name = torch.cuda.get_device_name(i)\n",
    "        cc = torch.cuda.get_device_capability(i)\n",
    "        print(f\"[{i}] {name} (CC {cc[0]}.{cc[1]})\")\n",
    "    print(f\"CUDA runtime: {torch.version.cuda}\")\n",
    "    print(f\"cuDNN: {torch.backends.cudnn.version()}\")\n",
    "else:\n",
    "    print(\"CUDA available: False\\nNo CUDA GPU detected.\")"
   ]
  },
  {
   "cell_type": "markdown",
   "metadata": {},
   "source": [
    "## Download Benchmark"
   ]
  },
  {
   "cell_type": "code",
   "execution_count": null,
   "metadata": {},
   "outputs": [],
   "source": [
    "!wget {BENCHMARK_PY_URL} -q\n",
    "# !cp benchmark_inference_compile_lerobot.py benchmark_inference_compile_lerobot_origin.py"
   ]
  },
  {
   "cell_type": "markdown",
   "metadata": {},
   "source": [
    "## Patch Benchmark\n",
    "\n"
   ]
  },
  {
   "cell_type": "code",
   "execution_count": null,
   "metadata": {},
   "outputs": [],
   "source": [
    "!patch benchmark_inference_compile_lerobot.py < benchmark_inference_compile_lerobot.patch\n",
    "# !diff -u benchmark_inference_compile_lerobot.py benchmark_inference_compile_lerobot_origin.py > benchmark_inference_compile_lerobot.patch\n",
    "!cat benchmark_inference_compile_lerobot.patch"
   ]
  },
  {
   "cell_type": "markdown",
   "metadata": {},
   "source": [
    "## Run Benchmark"
   ]
  },
  {
   "cell_type": "code",
   "execution_count": null,
   "metadata": {
    "colab": {
     "base_uri": "https://localhost:8080/"
    },
    "id": "QNxTBF6Exugj",
    "outputId": "d392c37a-cdd9-44df-cb99-4eafad9ad32b"
   },
   "outputs": [],
   "source": [
    "!cd lerobot && git pull\n",
    "!python benchmark_inference_compile_lerobot.py --policy act --device cuda --output baseline_act_report.md\n",
    "!cat baseline_act_report.md\n",
    "# !patch benchmark_inference_compile_lerobot.py < benchmark_inference_compile_lerobot.patch"
   ]
  },
  {
   "cell_type": "markdown",
   "metadata": {},
   "source": [
    "# Git"
   ]
  },
  {
   "cell_type": "code",
   "execution_count": null,
   "metadata": {},
   "outputs": [],
   "source": [
    "# !cd lerobot/ && git status\n",
    "# !cd lerobot/ && git config --global user.email \"huang.tzu.chun.tw@example.com\"\n",
    "# !cd lerobot/ && git config --global user.name \"HUANG TZU-CHUN\"\n",
    "# !cd lerobot/ && git commit -a"
   ]
  }
 ],
 "metadata": {
  "accelerator": "GPU",
  "colab": {
   "gpuType": "T4",
   "provenance": []
  },
  "kernelspec": {
   "display_name": "Python 3",
   "name": "python3"
  },
  "language_info": {
   "name": "python"
  }
 },
 "nbformat": 4,
 "nbformat_minor": 0
}
